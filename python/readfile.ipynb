{
 "cells": [
  {
   "cell_type": "code",
   "execution_count": 1,
   "metadata": {},
   "outputs": [],
   "source": [
    "import numpy as np\n",
    "import json\n",
    "from copy import deepcopy"
   ]
  },
  {
   "cell_type": "code",
   "execution_count": null,
   "metadata": {},
   "outputs": [],
   "source": [
    "arr = np.array([    \n",
    "    0.0, 0.2, 0.5,\n",
    "    0.2, -0.1, 0.3,\n",
    "    0.2, -0.1, 0.7,\n",
    "    0.0, 0.2, 0.5, \n",
    "    -0.2, -0.1, 0.7,\n",
    "    0.2, -0.1, 0.7,\n",
    "    0.0, 0.2, 0.5, \n",
    "    -0.2, -0.1, 0.3,\n",
    "    -0.2, -0.1, 0.7,\n",
    "    0.0, 0.2, 0.5,      \n",
    "    -0.2, -0.1, 0.3,\n",
    "    0.2, -0.1, 0.3,\n",
    "    0.2, -0.1, 0.3, \n",
    "    0.2, -0.1, 0.7,\n",
    "    -0.2, -0.1, 0.7,\n",
    "    -0.2, -0.1, 0.3, \n",
    "    0.2, -0.1, 0.3,\n",
    "    -0.2, -0.1, 0.7]).reshape(-1, 3)\n",
    "verts = arr\n",
    "faces = np.arange(0, verts.shape[0]).reshape(-1, 3)\n",
    "faces\n",
    "# convention: right, up, inward\n",
    "json.dump({\"vertices\": verts.tolist(), \"faces\": faces.tolist(), \"convention\": \"OpenGL\"}, open('../assets/scenes/pyramid.json', 'w'))"
   ]
  },
  {
   "cell_type": "code",
   "execution_count": null,
   "metadata": {},
   "outputs": [
    {
     "ename": "SyntaxError",
     "evalue": "expected ':' (3334474421.py, line 3)",
     "output_type": "error",
     "traceback": [
      "\u001b[1;36m  Cell \u001b[1;32mIn[6], line 3\u001b[1;36m\u001b[0m\n\u001b[1;33m    if src_conv != \"\"\u001b[0m\n\u001b[1;37m                     ^\u001b[0m\n\u001b[1;31mSyntaxError\u001b[0m\u001b[1;31m:\u001b[0m expected ':'\n"
     ]
    }
   ],
   "source": [
    "def convention_convertion_matrix(tgt_conv, src_conv): # 3x3\n",
    "    if src_conv != \"OpenGL\" and tgt_conv == \"OpenGL\":\n",
    "        return np.linalg.inv(convention_convertion_matrix(src_conv, \"OpenGL\"))\n",
    "    elif src_conv != \"OpenGL\" and tgt_conv != \"OpenGL\":\n",
    "        return convention_convertion_matrix(tgt_conv, \"OpenGL\") @ convention_convertion_matrix(\"OpenGL\", src_conv)\n",
    "    assert src_conv == \"OpenGL\"\n",
    "    if tgt_conv == src_conv:\n",
    "        result = np.eye(3)\n",
    "    elif tgt_conv == \"Blender\":\n",
    "        # x->y, y->z, z->x\n",
    "        result = np.array([[0, 0, 1], [1, 0, 0], [0, 1, 0]])\n",
    "    else:\n",
    "        raise ValueError(f\"Unknown convention {tgt_conv}\")\n",
    "    result = result.astype(np.float32)\n",
    "    assert np.isclose(np.linalg.det(result), 1)\n",
    "    return result"
   ]
  },
  {
   "cell_type": "code",
   "execution_count": null,
   "metadata": {},
   "outputs": [
    {
     "data": {
      "text/plain": [
       "True"
      ]
     },
     "execution_count": 18,
     "metadata": {},
     "output_type": "execute_result"
    }
   ],
   "source": [
    "convention_convertion_matrix(\"Blender\", \"OpenGL\")"
   ]
  },
  {
   "cell_type": "code",
   "execution_count": null,
   "metadata": {},
   "outputs": [],
   "source": []
  }
 ],
 "metadata": {
  "kernelspec": {
   "display_name": "kitchen3d",
   "language": "python",
   "name": "python3"
  },
  "language_info": {
   "codemirror_mode": {
    "name": "ipython",
    "version": 3
   },
   "file_extension": ".py",
   "mimetype": "text/x-python",
   "name": "python",
   "nbconvert_exporter": "python",
   "pygments_lexer": "ipython3",
   "version": "3.10.8"
  }
 },
 "nbformat": 4,
 "nbformat_minor": 2
}
