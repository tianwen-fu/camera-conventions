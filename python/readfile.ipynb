{
 "cells": [
  {
   "cell_type": "code",
   "execution_count": 8,
   "metadata": {},
   "outputs": [],
   "source": [
    "import numpy as np\n",
    "import json"
   ]
  },
  {
   "cell_type": "code",
   "execution_count": 10,
   "metadata": {},
   "outputs": [],
   "source": [
    "arr = np.array([    0.0, 0.2, 0.5,\n",
    "    0.2, -0.1, 0.3,\n",
    "    0.2, -0.1, 0.7,\n",
    "    0.0, 0.2, 0.5, \n",
    "    -0.2, -0.1, 0.7,\n",
    "    0.2, -0.1, 0.7,\n",
    "    0.0, 0.2, 0.5, \n",
    "    -0.2, -0.1, 0.3,\n",
    "    -0.2, -0.1, 0.7,\n",
    "    0.0, 0.2, 0.5, \n",
    "    -0.2, -0.1, 0.3,\n",
    "    0.2, -0.1, 0.3,\n",
    "    0.2, -0.1, 0.3, \n",
    "    0.2, -0.1, 0.7,\n",
    "    -0.2, -0.1, 0.7,\n",
    "    -0.2, -0.1, 0.3, \n",
    "    0.2, -0.1, 0.7,\n",
    "    -0.2, -0.1, 0.7]).reshape(-1, 3)\n",
    "verts = arr\n",
    "faces = np.arange(0, verts.shape[0]).reshape(-1, 3)\n",
    "faces\n",
    "json.dump({\"vertices\": verts.tolist(), \"faces\": faces.tolist()}, open('../assets/scenes/pyramid.json', 'w'))"
   ]
  },
  {
   "cell_type": "code",
   "execution_count": null,
   "metadata": {},
   "outputs": [],
   "source": []
  }
 ],
 "metadata": {
  "kernelspec": {
   "display_name": "gaussian-avatars",
   "language": "python",
   "name": "python3"
  },
  "language_info": {
   "codemirror_mode": {
    "name": "ipython",
    "version": 3
   },
   "file_extension": ".py",
   "mimetype": "text/x-python",
   "name": "python",
   "nbconvert_exporter": "python",
   "pygments_lexer": "ipython3",
   "version": "3.10.15"
  }
 },
 "nbformat": 4,
 "nbformat_minor": 2
}
