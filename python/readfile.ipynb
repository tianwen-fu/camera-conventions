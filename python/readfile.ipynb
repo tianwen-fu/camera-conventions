{
 "cells": [
  {
   "cell_type": "code",
   "execution_count": 3,
   "metadata": {},
   "outputs": [
    {
     "name": "stdout",
     "output_type": "stream",
     "text": [
      "The autoreload extension is already loaded. To reload it, use:\n",
      "  %reload_ext autoreload\n"
     ]
    }
   ],
   "source": [
    "%load_ext autoreload\n",
    "%autoreload 2\n",
    "\n",
    "import numpy as np\n",
    "import json\n",
    "from copy import deepcopy\n",
    "\n",
    "from camera_conventions.parser import parse_toml\n",
    "Blender = parse_toml('../conventions/Blender.toml')\n",
    "OpenGL = parse_toml('../conventions/OpenGL.toml')"
   ]
  },
  {
   "cell_type": "code",
   "execution_count": null,
   "metadata": {},
   "outputs": [],
   "source": [
    "from camera_conventions.geometry import Geometry\n",
    "\n",
    "arr = np.array([    \n",
    "    0.0, 0.2, 0.5,\n",
    "    0.2, -0.1, 0.3,\n",
    "    0.2, -0.1, 0.7,\n",
    "    0.0, 0.2, 0.5, \n",
    "    -0.2, -0.1, 0.7,\n",
    "    0.2, -0.1, 0.7,\n",
    "    0.0, 0.2, 0.5, \n",
    "    -0.2, -0.1, 0.3,\n",
    "    -0.2, -0.1, 0.7,\n",
    "    0.0, 0.2, 0.5,      \n",
    "    -0.2, -0.1, 0.3,\n",
    "    0.2, -0.1, 0.3,\n",
    "    0.2, -0.1, 0.3, \n",
    "    0.2, -0.1, 0.7,\n",
    "    -0.2, -0.1, 0.7,\n",
    "    -0.2, -0.1, 0.3, \n",
    "    0.2, -0.1, 0.3,\n",
    "    -0.2, -0.1, 0.7]).reshape(-1, 3)\n",
    "colors = np.array([\n",
    "    1.0, 0.0, 0.0, 1.0, 0.0, 0.0, 1.0, 0.0, 0.0, 0.0, 1.0,\n",
    "                  0.0, 0.0, 1.0, 0.0, 0.0, 1.0, 0.0, 0.0, 0.0, 1.0, 0.0,\n",
    "                  0.0, 1.0, 0.0, 0.0, 1.0, 1.0, 1.0, 0.0, 1.0, 1.0, 0.0,\n",
    "                  1.0, 1.0, 0.0, 1.0, 1.0, 1.0, 1.0, 1.0, 1.0, 1.0, 1.0,\n",
    "                  1.0, 1.0, 1.0, 1.0, 1.0, 1.0, 1.0, 1.0, 1.0, 1.0\n",
    "]).reshape(-1, 3)\n",
    "colors = (colors * 255).astype(np.uint8)\n",
    "arr[:, 2] -= 0.5\n",
    "verts = arr\n",
    "faces = np.arange(0, verts.shape[0]).reshape(-1, 3)\n",
    "geom = Geometry(convention=OpenGL, verts=verts, faces=faces, vertex_colors=colors)\n",
    "geom.convert(Blender).to_json('../assets/geometries/pyramid_blender.json')"
   ]
  },
  {
   "cell_type": "code",
   "execution_count": 23,
   "metadata": {},
   "outputs": [
    {
     "data": {
      "text/plain": [
       "array([[-0.70710678,  0.        ,  0.70710678,  1.        ],\n",
       "       [ 0.70710678,  0.        ,  0.70710678,  1.        ],\n",
       "       [ 0.        ,  1.        ,  0.        ,  0.        ],\n",
       "       [ 0.        ,  0.        ,  0.        ,  1.        ]])"
      ]
     },
     "execution_count": 23,
     "metadata": {},
     "output_type": "execute_result"
    }
   ],
   "source": [
    "from camera_conventions.camera import Camera\n",
    "\n",
    "\"\"\"\n",
    "(((-0.7071067690849304, 3.0908619663705394e-08, 0.7071067690849304, 1.0),\n",
    "        (0.7071067690849304, 3.0908619663705394e-08, 0.7071067690849304, 1.0),\n",
    "        (0.0, 1.0, -4.371138828673793e-08, 0.0),\n",
    "        (0.0, 0.0, 0.0, 1.0)))\n",
    "\"\"\"\n",
    "bTestCam = Camera(\n",
    "    convention=Blender,\n",
    "    fhat=50.0 / 36.0,\n",
    "    T=np.array(\n",
    "        [\n",
    "            [-np.sqrt(2) / 2, 0, np.sqrt(2) / 2, 1.0],\n",
    "            [np.sqrt(2) / 2, 0, np.sqrt(2) / 2, 1.0],\n",
    "            [0, 1.0, 0, 0],\n",
    "            [0, 0, 0, 1.0],\n",
    "        ]\n",
    "    ),\n",
    ")\n",
    "bTestCam.to_json('../assets/cameras/testCam_blender.json')\n",
    "bTestCam.T"
   ]
  },
  {
   "cell_type": "code",
   "execution_count": 18,
   "metadata": {},
   "outputs": [
    {
     "data": {
      "text/plain": [
       "array([[ 0.70710678,  0.        , -0.70710678,  0.        ],\n",
       "       [ 0.        ,  1.        ,  0.        ,  0.        ],\n",
       "       [ 0.70710678,  0.        ,  0.70710678, -1.41421356],\n",
       "       [ 0.        ,  0.        ,  0.        ,  1.        ]])"
      ]
     },
     "execution_count": 18,
     "metadata": {},
     "output_type": "execute_result"
    }
   ],
   "source": [
    "Rt, C = bTestCam.T[:3, :3], bTestCam.T[:3, 3]\n",
    "blender_to_opengl = np.linalg.inv(Blender.world_transformation_matrix)\n",
    "Rt_opengl = blender_to_opengl @ Rt\n",
    "C_opengl = blender_to_opengl @ C\n",
    "opengl_T = np.eye(4)\n",
    "opengl_T[:3, :3] = Rt_opengl\n",
    "opengl_T[:3, 3] = C_opengl\n",
    "opengl_T = np.linalg.inv(opengl_T)\n",
    "opengl_T"
   ]
  },
  {
   "cell_type": "code",
   "execution_count": 19,
   "metadata": {},
   "outputs": [
    {
     "data": {
      "text/plain": [
       "array([[ 0.70710678,  0.        , -0.70710678,  0.        ],\n",
       "       [ 0.        ,  1.        ,  0.        ,  0.        ],\n",
       "       [ 0.70710678,  0.        ,  0.70710678, -1.41421356],\n",
       "       [ 0.        ,  0.        ,  0.        ,  1.        ]])"
      ]
     },
     "execution_count": 19,
     "metadata": {},
     "output_type": "execute_result"
    }
   ],
   "source": [
    "opengl_to_blender = np.eye(4)\n",
    "opengl_to_blender[:3, :3] = np.linalg.inv(blender_to_opengl)\n",
    "np.linalg.inv(bTestCam.T) @ opengl_to_blender"
   ]
  },
  {
   "cell_type": "code",
   "execution_count": 21,
   "metadata": {},
   "outputs": [
    {
     "data": {
      "text/plain": [
       "array([[ 0.70710678,  0.        , -0.70710678,  0.        ],\n",
       "       [ 0.        ,  1.        ,  0.        ,  0.        ],\n",
       "       [ 0.70710678,  0.        ,  0.70710678, -1.41421356],\n",
       "       [ 0.        ,  0.        ,  0.        ,  1.        ]])"
      ]
     },
     "execution_count": 21,
     "metadata": {},
     "output_type": "execute_result"
    }
   ],
   "source": [
    "bTestCam.convert(OpenGL).T"
   ]
  },
  {
   "cell_type": "code",
   "execution_count": 25,
   "metadata": {},
   "outputs": [],
   "source": [
    "np.testing.assert_allclose(bTestCam.convert(OpenGL).convert(Blender).T, bTestCam.T)"
   ]
  },
  {
   "cell_type": "code",
   "execution_count": 26,
   "metadata": {},
   "outputs": [],
   "source": [
    "bTestCam.convert(OpenGL).to_json('../assets/cameras/testCam.json')"
   ]
  },
  {
   "cell_type": "code",
   "execution_count": null,
   "metadata": {},
   "outputs": [],
   "source": []
  }
 ],
 "metadata": {
  "kernelspec": {
   "display_name": "gaussian-avatars",
   "language": "python",
   "name": "python3"
  },
  "language_info": {
   "codemirror_mode": {
    "name": "ipython",
    "version": 3
   },
   "file_extension": ".py",
   "mimetype": "text/x-python",
   "name": "python",
   "nbconvert_exporter": "python",
   "pygments_lexer": "ipython3",
   "version": "3.10.15"
  }
 },
 "nbformat": 4,
 "nbformat_minor": 2
}
