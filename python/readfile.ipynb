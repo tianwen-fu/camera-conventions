{
 "cells": [
  {
   "cell_type": "code",
   "execution_count": 19,
   "metadata": {},
   "outputs": [],
   "source": [
    "import numpy as np\n",
    "import json\n",
    "from copy import deepcopy"
   ]
  },
  {
   "cell_type": "code",
   "execution_count": null,
   "metadata": {},
   "outputs": [],
   "source": [
    "arr = np.array([    \n",
    "    0.0, 0.2, 0.5,\n",
    "    0.2, -0.1, 0.3,\n",
    "    0.2, -0.1, 0.7,\n",
    "    0.0, 0.2, 0.5, \n",
    "    -0.2, -0.1, 0.7,\n",
    "    0.2, -0.1, 0.7,\n",
    "    0.0, 0.2, 0.5, \n",
    "    -0.2, -0.1, 0.3,\n",
    "    -0.2, -0.1, 0.7,\n",
    "    0.0, 0.2, 0.5,      \n",
    "    -0.2, -0.1, 0.3,\n",
    "    0.2, -0.1, 0.3,\n",
    "    0.2, -0.1, 0.3, \n",
    "    0.2, -0.1, 0.7,\n",
    "    -0.2, -0.1, 0.7,\n",
    "    -0.2, -0.1, 0.3, \n",
    "    0.2, -0.1, 0.3,\n",
    "    -0.2, -0.1, 0.7]).reshape(-1, 3)\n",
    "verts = arr\n",
    "faces = np.arange(0, verts.shape[0]).reshape(-1, 3)\n",
    "faces\n",
    "# convention: right, up, inward\n",
    "json.dump({\"vertices\": verts.tolist(), \"faces\": faces.tolist(), \"convention\": \"OpenGL\"}, open('../assets/scenes/pyramid.json', 'w'))"
   ]
  },
  {
   "cell_type": "code",
   "execution_count": null,
   "metadata": {},
   "outputs": [
    {
     "ename": "SyntaxError",
     "evalue": "expected ':' (3334474421.py, line 3)",
     "output_type": "error",
     "traceback": [
      "\u001b[1;36m  Cell \u001b[1;32mIn[6], line 3\u001b[1;36m\u001b[0m\n\u001b[1;33m    if src_conv != \"\"\u001b[0m\n\u001b[1;37m                     ^\u001b[0m\n\u001b[1;31mSyntaxError\u001b[0m\u001b[1;31m:\u001b[0m expected ':'\n"
     ]
    }
   ],
   "source": [
    "def convention_convertion_matrix(tgt_conv, src_conv): # 3x3\n",
    "    if src_conv != \"OpenGL\" and tgt_conv == \"OpenGL\":\n",
    "        return np.linalg.inv(convention_convertion_matrix(src_conv, \"OpenGL\"))\n",
    "    elif src_conv != \"OpenGL\" and tgt_conv != \"OpenGL\":\n",
    "        return convention_convertion_matrix(tgt_conv, \"OpenGL\") @ convention_convertion_matrix(\"OpenGL\", src_conv)\n",
    "    assert src_conv == \"OpenGL\"\n",
    "    if tgt_conv == src_conv:\n",
    "        result = np.eye(3)\n",
    "    elif tgt_conv == \"Blender\":\n",
    "        # x->y, y->z, z->x\n",
    "        result = np.array([[0, 0, 1], [1, 0, 0], [0, 1, 0]])\n",
    "    else:\n",
    "        raise ValueError(f\"Unknown convention {tgt_conv}\")\n",
    "    result = result.astype(np.float32)\n",
    "    assert np.isclose(np.linalg.det(result), 1)\n",
    "    return result"
   ]
  },
  {
   "cell_type": "code",
   "execution_count": null,
   "metadata": {},
   "outputs": [
    {
     "data": {
      "text/plain": [
       "True"
      ]
     },
     "execution_count": 18,
     "metadata": {},
     "output_type": "execute_result"
    }
   ],
   "source": [
    "convention_convertion_matrix(\"Blender\", \"OpenGL\")"
   ]
  },
  {
   "cell_type": "code",
   "execution_count": null,
   "metadata": {},
   "outputs": [
    {
     "data": {
      "text/plain": [
       "array([[ 0.70710678,  0.        , -0.70710678,  0.        ],\n",
       "       [ 0.        ,  1.        ,  0.        ,  0.        ],\n",
       "       [ 0.70710678,  0.        ,  0.70710678, -1.41421356],\n",
       "       [ 0.        ,  0.        ,  0.        ,  1.        ]])"
      ]
     },
     "execution_count": 26,
     "metadata": {},
     "output_type": "execute_result"
    }
   ],
   "source": [
    "C = np.array([1., 0, 1])\n",
    "# look at the origin\n",
    "cameraZ = np.array([1., 0, 1])\n",
    "cameraZ /= np.linalg.norm(cameraZ)\n",
    "cameraY = np.array([0., 1, 0])\n",
    "cameraY = cameraY - np.dot(cameraY, cameraZ) * cameraZ\n",
    "cameraY /= np.linalg.norm(cameraY)\n",
    "assert np.isclose(np.dot(cameraY, cameraZ), 0)\n",
    "cameraX = np.cross(cameraY, cameraZ)\n",
    "cameraX /= np.linalg.norm(cameraX)\n",
    "assert np.isclose(np.dot(cameraX, cameraY), 0)\n",
    "assert np.isclose(np.dot(cameraX, cameraZ), 0)\n",
    "\n",
    "# cameraX, cameraY, cameraZ are the columns of the camera-to-world matrix\n",
    "# we want the world-to-camera matrix\n",
    "cameraToWorld = np.array([cameraX, cameraY, cameraZ]).T\n",
    "R = np.linalg.inv(cameraToWorld)\n",
    "T = -R @ C\n",
    "viewMatrix = np.eye(4)\n",
    "viewMatrix[:3, :3] = R\n",
    "viewMatrix[:3, 3] = T\n",
    "viewMatrix"
   ]
  },
  {
   "cell_type": "code",
   "execution_count": 27,
   "metadata": {},
   "outputs": [],
   "source": [
    "from camera_conventions.camera import Camera"
   ]
  },
  {
   "cell_type": "code",
   "execution_count": 30,
   "metadata": {},
   "outputs": [],
   "source": [
    "camTest = Camera(\n",
    "    fx=1, fy=1, cx=0, cy=0, width=2, height=2, # these are not implemented yet\n",
    "    T=viewMatrix)\n",
    "camTest.to_txt_file('../assets/cameras/testCam.txt')"
   ]
  },
  {
   "cell_type": "code",
   "execution_count": null,
   "metadata": {},
   "outputs": [],
   "source": []
  }
 ],
 "metadata": {
  "kernelspec": {
   "display_name": "kitchen3d",
   "language": "python",
   "name": "python3"
  },
  "language_info": {
   "codemirror_mode": {
    "name": "ipython",
    "version": 3
   },
   "file_extension": ".py",
   "mimetype": "text/x-python",
   "name": "python",
   "nbconvert_exporter": "python",
   "pygments_lexer": "ipython3",
   "version": "3.10.8"
  }
 },
 "nbformat": 4,
 "nbformat_minor": 2
}
