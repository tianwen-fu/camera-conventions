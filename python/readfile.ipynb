{
 "cells": [
  {
   "cell_type": "code",
   "execution_count": 2,
   "metadata": {},
   "outputs": [],
   "source": [
    "%load_ext autoreload\n",
    "%autoreload 2\n",
    "\n",
    "import numpy as np\n",
    "import json\n",
    "from copy import deepcopy"
   ]
  },
  {
   "cell_type": "code",
   "execution_count": 14,
   "metadata": {},
   "outputs": [],
   "source": [
    "from camera_conventions.geometry import Geometry\n",
    "\n",
    "arr = np.array([    \n",
    "    0.0, 0.2, 0.5,\n",
    "    0.2, -0.1, 0.3,\n",
    "    0.2, -0.1, 0.7,\n",
    "    0.0, 0.2, 0.5, \n",
    "    -0.2, -0.1, 0.7,\n",
    "    0.2, -0.1, 0.7,\n",
    "    0.0, 0.2, 0.5, \n",
    "    -0.2, -0.1, 0.3,\n",
    "    -0.2, -0.1, 0.7,\n",
    "    0.0, 0.2, 0.5,      \n",
    "    -0.2, -0.1, 0.3,\n",
    "    0.2, -0.1, 0.3,\n",
    "    0.2, -0.1, 0.3, \n",
    "    0.2, -0.1, 0.7,\n",
    "    -0.2, -0.1, 0.7,\n",
    "    -0.2, -0.1, 0.3, \n",
    "    0.2, -0.1, 0.3,\n",
    "    -0.2, -0.1, 0.7]).reshape(-1, 3)\n",
    "colors = np.array([\n",
    "    1.0, 0.0, 0.0, 1.0, 0.0, 0.0, 1.0, 0.0, 0.0, 0.0, 1.0,\n",
    "                  0.0, 0.0, 1.0, 0.0, 0.0, 1.0, 0.0, 0.0, 0.0, 1.0, 0.0,\n",
    "                  0.0, 1.0, 0.0, 0.0, 1.0, 1.0, 1.0, 0.0, 1.0, 1.0, 0.0,\n",
    "                  1.0, 1.0, 0.0, 1.0, 1.0, 1.0, 1.0, 1.0, 1.0, 1.0, 1.0,\n",
    "                  1.0, 1.0, 1.0, 1.0, 1.0, 1.0, 1.0, 1.0, 1.0, 1.0\n",
    "]).reshape(-1, 3)\n",
    "colors = (colors * 255).astype(np.uint8)\n",
    "arr[:, 2] -= 0.5\n",
    "verts = arr\n",
    "faces = np.arange(0, verts.shape[0]).reshape(-1, 3)\n",
    "geom = Geometry(convention=\"OpenGL\", verts=verts, faces=faces, vertex_colors=colors)\n",
    "geom.convert(\"Blender\").dump('../assets/geometries/pyramid_blender.json')"
   ]
  },
  {
   "cell_type": "code",
   "execution_count": null,
   "metadata": {},
   "outputs": [],
   "source": [
    "from camera_conventions.camera import Camera\n",
    "\n",
    "\"\"\"\n",
    "(((-0.7071067690849304, 3.0908619663705394e-08, 0.7071067690849304, 1.0),\n",
    "        (0.7071067690849304, 3.0908619663705394e-08, 0.7071067690849304, 1.0),\n",
    "        (0.0, 1.0, -4.371138828673793e-08, 0.0),\n",
    "        (0.0, 0.0, 0.0, 1.0)))\n",
    "\"\"\"\n",
    "bTestCam = Camera(\n",
    "    convention=\"Blender\",\n",
    "    fhat=50.0 / 36.0,\n",
    "    T=np.array(\n",
    "        [\n",
    "            [-np.sqrt(2) / 2, 0, np.sqrt(2) / 2, 1.0],\n",
    "            [np.sqrt(2) / 2, 0, np.sqrt(2) / 2, 1.0],\n",
    "            [0, 1.0, 0, 0],\n",
    "            [0, 0, 0, 1.0],\n",
    "        ]\n",
    "    ),\n",
    ")"
   ]
  },
  {
   "cell_type": "code",
   "execution_count": null,
   "metadata": {},
   "outputs": [],
   "source": [
    "b_cam = camTest.convert(\"Blender\")\n",
    "b_cam.T = np.linalg.inv(b_cam.T)\n",
    "b_cam.to_json('../assets/cameras/testCam_blender.json')\n",
    "b_cam"
   ]
  },
  {
   "cell_type": "code",
   "execution_count": null,
   "metadata": {},
   "outputs": [],
   "source": []
  }
 ],
 "metadata": {
  "kernelspec": {
   "display_name": "gaussian-avatars",
   "language": "python",
   "name": "python3"
  },
  "language_info": {
   "codemirror_mode": {
    "name": "ipython",
    "version": 3
   },
   "file_extension": ".py",
   "mimetype": "text/x-python",
   "name": "python",
   "nbconvert_exporter": "python",
   "pygments_lexer": "ipython3",
   "version": "3.10.15"
  }
 },
 "nbformat": 4,
 "nbformat_minor": 2
}
